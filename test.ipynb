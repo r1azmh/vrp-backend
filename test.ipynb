{
 "cells": [
  {
   "cell_type": "code",
   "execution_count": 1,
   "id": "initial_id",
   "metadata": {
    "collapsed": true,
    "ExecuteTime": {
     "end_time": "2024-02-09T16:05:12.598605542Z",
     "start_time": "2024-02-09T16:05:12.483378751Z"
    }
   },
   "outputs": [],
   "source": []
  },
  {
   "cell_type": "code",
   "outputs": [
    {
     "data": {
      "text/plain": "'{\"plan\":{\"jobs\":[{\"id\":\"delivery_job\",\"pickups\":null,\"deliveries\":[{\"places\":[{\"location\":{\"lat\":52.52599,\"lng\":13.45413},\"duration\":300.0,\"times\":[[\"2024-07-04T09:00:00Z\",\"2024-07-04T18:00:00Z\"]],\"tag\":null}],\"demand\":[1]}]},{\"id\":\"pickup_job\",\"pickups\":[{\"places\":[{\"location\":{\"lat\":52.5225,\"lng\":13.4095},\"duration\":240.0,\"times\":[[\"2024-07-04T10:00:00Z\",\"2024-07-04T16:00:00Z\"]],\"tag\":null}],\"demand\":[1]}],\"deliveries\":null},{\"id\":\"multi_job\",\"pickups\":[{\"places\":[{\"location\":{\"lat\":52.5225,\"lng\":13.4095},\"duration\":300.0,\"times\":null,\"tag\":null}],\"demand\":[1]}],\"deliveries\":[{\"places\":[{\"location\":{\"lat\":52.5165,\"lng\":13.3808},\"duration\":300.0,\"times\":null,\"tag\":null}],\"demand\":[1]}]}],\"relations\":null},\"fleet\":{\"vehicles\":[{\"typeId\":\"vehicle\",\"vehicleIds\":[\"vehicle_1\"],\"profile\":{\"matrix\":\"normal_car\",\"speed\":null},\"costs\":{\"fixed\":22.0,\"distance\":0.0002,\"time\":0.005},\"shifts\":[{\"start\":{\"earliest\":\"2024-07-04T09:00:00Z\",\"location\":{\"lat\":52.5316,\"lng\":13.3884},\"latest\":null},\"end\":{\"latest\":\"2024-07-04T18:00:00Z\",\"location\":{\"lat\":52.5316,\"lng\":13.3884},\"earliest\":null},\"breaks\":null,\"reloads\":null}],\"capacity\":[10]}],\"profiles\":[{\"name\":\"normal_car\",\"speed\":16.67}]},\"objectives\":null}'"
     },
     "execution_count": 1,
     "metadata": {},
     "output_type": "execute_result"
    }
   ],
   "source": [
    "from base.vrp_extra import new_pragmatic_types as prgs\n",
    "from base.vrp_extra import config_types as cfg\n",
    "\n",
    "pickup_job = prgs.Job(\n",
    "    id='pickup_job',\n",
    "    pickups=[\n",
    "        prgs.JobTask(\n",
    "            places=[\n",
    "                prgs.JobPlace(\n",
    "                    location=prgs.Location(lat=52.5225, lng=13.4095),\n",
    "                    duration=240,\n",
    "                    times=[['2024-07-04T10:00:00Z', '2024-07-04T16:00:00Z']]\n",
    "                )\n",
    "            ],\n",
    "            demand=[1]\n",
    "        )\n",
    "    ]\n",
    ")\n",
    "\n",
    "delivery_job = prgs.Job(\n",
    "    id='delivery_job',\n",
    "    deliveries=[\n",
    "        prgs.JobTask(\n",
    "            places=[\n",
    "                prgs.JobPlace(\n",
    "                    location=prgs.Location(lat=52.52599, lng=13.45413),\n",
    "                    duration=300,\n",
    "                    times=[['2024-07-04T09:00:00Z', '2024-07-04T18:00:00Z']]\n",
    "                ),\n",
    "            ],\n",
    "            demand=[1]\n",
    "        )\n",
    "    ]\n",
    ")\n",
    "\n",
    "multi_job = prgs.Job(\n",
    "    id=\"multi_job\",\n",
    "    pickups=[\n",
    "        prgs.JobTask(\n",
    "            places=[\n",
    "                prgs.JobPlace(\n",
    "                    location=prgs.Location(lat=52.5225, lng=13.4095),\n",
    "                    duration=300\n",
    "                )\n",
    "            ],\n",
    "            demand=[1]\n",
    "        )\n",
    "    ],\n",
    "    deliveries=[\n",
    "        prgs.JobTask(\n",
    "            places=[\n",
    "                prgs.JobPlace(\n",
    "                    location=prgs.Location(lat=52.5165, lng=13.3808),\n",
    "                    duration=300\n",
    "                ),\n",
    "            ],\n",
    "            demand=[1]\n",
    "        )\n",
    "    ]\n",
    ")\n",
    "\n",
    "vehicle_type = prgs.VehicleType(\n",
    "    typeId='vehicle',\n",
    "    vehicleIds=['vehicle_1'],\n",
    "    profile=prgs.VehicleProfile(matrix='normal_car'),\n",
    "    costs=prgs.VehicleCosts(fixed=22, distance=0.0002, time=0.005),\n",
    "    shifts=[\n",
    "        prgs.VehicleShift(\n",
    "            start=prgs.VehicleShiftStart(\n",
    "                earliest=\"2024-07-04T09:00:00Z\",\n",
    "                location=prgs.Location(lat=52.5316, lng=13.3884),\n",
    "            ),\n",
    "            end=prgs.VehicleShiftEnd(\n",
    "                latest=\"2024-07-04T18:00:00Z\",\n",
    "                location=prgs.Location(lat=52.5316, lng=13.3884),\n",
    "            )\n",
    "        )\n",
    "    ],\n",
    "    capacity=[10]\n",
    ")\n",
    "\n",
    "matrix = prgs.RoutingMatrix(\n",
    "    profile='normal_car',\n",
    "    durations=[0, 609, 981, 906, 813, 0, 371, 590, 1055, 514, 0, 439, 948, 511, 463, 0],\n",
    "    distances=[0, 3840, 5994, 5333, 4696, 0, 2154, 3226, 5763, 2674, 0, 2145, 5112, 2470, 2152, 0]\n",
    ")\n",
    "\n",
    "profile = prgs.RoutingProfile(name='normal_car', speed=16.67)\n",
    "\n",
    "config = cfg.Config(\n",
    "    termination=cfg.Termination(\n",
    "        maxTime=1,\n",
    "        maxGenerations=3000\n",
    "    )\n",
    ")\n",
    "\n",
    "problem = prgs.Problem(\n",
    "    plan=prgs.Plan(\n",
    "        jobs=[delivery_job, pickup_job, multi_job]\n",
    "    ),\n",
    "    fleet=prgs.Fleet(\n",
    "        vehicles=[vehicle_type],\n",
    "        profiles=[profile]\n",
    "    )\n",
    ")\n",
    "problem.model_dump_json()"
   ],
   "metadata": {
    "collapsed": false,
    "ExecuteTime": {
     "end_time": "2024-02-16T14:02:39.863066845Z",
     "start_time": "2024-02-16T14:02:39.698761324Z"
    }
   },
   "id": "1f4b2cce43b50404",
   "execution_count": 1
  },
  {
   "cell_type": "code",
   "outputs": [
    {
     "data": {
      "text/plain": "(VehicleType(typeId='_vehicle.name', vehicleIds=['name'], profile=VehicleProfile(matrix='_vehicle.profile.name', speed=None), costs=VehicleCosts(fixed=10.88, distance=11.0, time=10.0), shifts=[VehicleShift(start=VehicleShiftStart(earliest=datetime.datetime(2023, 6, 5, 0, 1, tzinfo=TzInfo(UTC)), location=Location(lat=4546.4545, lng=3434.3434), latest=None), end=VehicleShiftEnd(latest=datetime.datetime(2023, 6, 5, 23, 59, tzinfo=TzInfo(UTC)), location=Location(lat=45.5656565, lng=4545.45454), earliest=None), breaks=None, reloads=None)], capacity=[10]),\n Fleet(vehicles=[VehicleType(typeId='_vehicle.name', vehicleIds=['name'], profile=VehicleProfile(matrix='_vehicle.profile.name', speed=None), costs=VehicleCosts(fixed=10.88, distance=11.0, time=10.0), shifts=[VehicleShift(start=VehicleShiftStart(earliest=datetime.datetime(2023, 6, 5, 0, 1, tzinfo=TzInfo(UTC)), location=Location(lat=4546.4545, lng=3434.3434), latest=None), end=VehicleShiftEnd(latest=datetime.datetime(2023, 6, 5, 23, 59, tzinfo=TzInfo(UTC)), location=Location(lat=45.5656565, lng=4545.45454), earliest=None), breaks=None, reloads=None)], capacity=[10]), VehicleType(typeId='_vehicle.name', vehicleIds=['name'], profile=VehicleProfile(matrix='_vehicle.profile.name', speed=None), costs=VehicleCosts(fixed=10.88, distance=11.0, time=10.0), shifts=[VehicleShift(start=VehicleShiftStart(earliest=datetime.datetime(2023, 6, 5, 0, 1, tzinfo=TzInfo(UTC)), location=Location(lat=4546.4545, lng=3434.3434), latest=None), end=VehicleShiftEnd(latest=datetime.datetime(2023, 6, 5, 23, 59, tzinfo=TzInfo(UTC)), location=Location(lat=45.5656565, lng=4545.45454), earliest=None), breaks=None, reloads=None)], capacity=[10]), VehicleType(typeId='_vehicle.name', vehicleIds=['name'], profile=VehicleProfile(matrix='_vehicle.profile.name', speed=None), costs=VehicleCosts(fixed=10.88, distance=11.0, time=10.0), shifts=[VehicleShift(start=VehicleShiftStart(earliest=datetime.datetime(2023, 6, 5, 0, 1, tzinfo=TzInfo(UTC)), location=Location(lat=4546.4545, lng=3434.3434), latest=None), end=VehicleShiftEnd(latest=datetime.datetime(2023, 6, 5, 23, 59, tzinfo=TzInfo(UTC)), location=Location(lat=45.5656565, lng=4545.45454), earliest=None), breaks=None, reloads=None)], capacity=[10]), VehicleType(typeId='_vehicle.name', vehicleIds=['name'], profile=VehicleProfile(matrix='_vehicle.profile.name', speed=None), costs=VehicleCosts(fixed=10.88, distance=11.0, time=10.0), shifts=[VehicleShift(start=VehicleShiftStart(earliest=datetime.datetime(2023, 6, 5, 0, 1, tzinfo=TzInfo(UTC)), location=Location(lat=4546.4545, lng=3434.3434), latest=None), end=VehicleShiftEnd(latest=datetime.datetime(2023, 6, 5, 23, 59, tzinfo=TzInfo(UTC)), location=Location(lat=45.5656565, lng=4545.45454), earliest=None), breaks=None, reloads=None)], capacity=[10])], profiles=[RoutingProfile(name='normal_car', speed=16.67), RoutingProfile(name='normal_car', speed=16.67), RoutingProfile(name='normal_car', speed=16.67)]))"
     },
     "execution_count": 7,
     "metadata": {},
     "output_type": "execute_result"
    }
   ],
   "source": [
    "fleet = prgs.Fleet(vehicles=[vehicle_type, vehicle_type, vehicle_type, vehicle_type],\n",
    "                      profiles=[profile, profile, profile])\n",
    "vehicle_type = prgs.VehicleType(\n",
    "        typeId='_vehicle.name',\n",
    "        vehicleIds=['name'],\n",
    "        profile=prgs.VehicleProfile(matrix='_vehicle.profile.name'),\n",
    "        costs=prgs.VehicleCosts(\n",
    "            fixed=10.88,\n",
    "            distance=11,\n",
    "            time=10),\n",
    "        shifts=[\n",
    "            prgs.VehicleShift(\n",
    "                start=prgs.VehicleShiftStart(\n",
    "                    earliest=\"2023-06-05T00:01:00.000Z\",\n",
    "                    location=prgs.Location(lat=4546.4545, lng=3434.3434),\n",
    "                ),\n",
    "                end=prgs.VehicleShiftEnd(\n",
    "                    latest='2023-06-05T23:59:00.000Z',\n",
    "                    location=prgs.Location(lat=45.5656565, lng=4545.45454),\n",
    "                )\n",
    "            )\n",
    "        ],\n",
    "        capacity=[10]\n",
    "    )\n",
    "vehicle_type, fleet"
   ],
   "metadata": {
    "collapsed": false,
    "ExecuteTime": {
     "end_time": "2024-02-16T14:11:04.180380362Z",
     "start_time": "2024-02-16T14:11:04.169713980Z"
    }
   },
   "id": "496c1b6e97c270c5",
   "execution_count": 7
  },
  {
   "cell_type": "code",
   "outputs": [
    {
     "name": "stdout",
     "output_type": "stream",
     "text": [
      "configured to use max-generations: 3000\n",
      "configured to use max-time: 1s\n",
      "configured to use custom heuristic\n",
      "total jobs: 3, actors: 1\n",
      "preparing initial solution(-s)\n",
      "[0s] created initial solution in 0ms, fitness: (0.000, 1.000, 44.406)\n",
      "[0s] created initial solution in 0ms, fitness: (0.000, 1.000, 44.406)\n",
      "[0s] created initial solution in 0ms, fitness: (0.000, 1.000, 44.406)\n",
      "[0s] created initial solution in 0ms, fitness: (0.000, 1.000, 44.406)\n",
      "created initial population in 1ms\n",
      "[0s] generation 0 took 0ms, median: 0ms fitness: (0.000, 1.000, 44.406)\n",
      "[0s] population state (phase: initial, speed: 0.00 gen/sec, improvement ratio: 0.000:0.000):\n",
      "\trank: 0, fitness: (0.000, 1.000, 44.406), difference: 0.000%\n",
      "[0s] generation 100 took 0ms, median: 0ms fitness: (0.000, 1.000, 33.376)\n",
      "[0s] generation 200 took 0ms, median: 0ms fitness: (0.000, 1.000, 33.376)\n",
      "[0s] generation 300 took 0ms, median: 0ms fitness: (0.000, 1.000, 33.376)\n",
      "[0s] generation 400 took 0ms, median: 0ms fitness: (0.000, 1.000, 33.376)\n",
      "[0s] generation 500 took 0ms, median: 0ms fitness: (0.000, 1.000, 33.376)\n",
      "[0s] generation 600 took 0ms, median: 0ms fitness: (0.000, 1.000, 33.376)\n",
      "[0s] generation 700 took 0ms, median: 0ms fitness: (0.000, 1.000, 33.376)\n",
      "[0s] generation 800 took 1ms, median: 1ms fitness: (0.000, 1.000, 33.376)\n",
      "[0s] generation 900 took 0ms, median: 1ms fitness: (0.000, 1.000, 33.376)\n",
      "[0s] generation 1000 took 0ms, median: 0ms fitness: (0.000, 1.000, 33.376)\n",
      "[0s] population state (phase: exploration, speed: 1854.22 gen/sec, improvement ratio: 0.002:0.002):\n",
      "\trank: 0, fitness: (0.000, 1.000, 33.376), difference: 0.000%\n",
      "\trank: 1, fitness: (0.000, 1.000, 34.401), difference: 0.030%\n",
      "[0s] generation 1100 took 0ms, median: 0ms fitness: (0.000, 1.000, 33.376)\n",
      "[0s] generation 1200 took 0ms, median: 0ms fitness: (0.000, 1.000, 33.376)\n",
      "[0s] generation 1300 took 0ms, median: 0ms fitness: (0.000, 1.000, 33.376)\n",
      "[0s] generation 1400 took 0ms, median: 0ms fitness: (0.000, 1.000, 33.376)\n",
      "[0s] generation 1500 took 0ms, median: 0ms fitness: (0.000, 1.000, 33.376)\n",
      "[0s] generation 1600 took 0ms, median: 0ms fitness: (0.000, 1.000, 33.376)\n",
      "[0s] generation 1700 took 0ms, median: 0ms fitness: (0.000, 1.000, 33.376)\n",
      "[0s] generation 1800 took 0ms, median: 0ms fitness: (0.000, 1.000, 33.376)\n",
      "[0s] generation 1900 took 0ms, median: 0ms fitness: (0.000, 1.000, 33.376)\n",
      "[0s] generation 2000 took 0ms, median: 0ms fitness: (0.000, 1.000, 33.376)\n",
      "[0s] population state (phase: exploitation, speed: 2206.58 gen/sec, improvement ratio: 0.001:0.000):\n",
      "\trank: 0, fitness: (0.000, 1.000, 33.376), difference: 0.000%\n",
      "\trank: 1, fitness: (0.000, 1.000, 34.401), difference: 0.030%\n",
      "[0s] generation 2100 took 0ms, median: 0ms fitness: (0.000, 1.000, 33.376)\n",
      "[0s] generation 2200 took 0ms, median: 0ms fitness: (0.000, 1.000, 33.376)\n",
      "[0s] generation 2300 took 0ms, median: 0ms fitness: (0.000, 1.000, 33.376)\n",
      "[0s] generation 2400 took 0ms, median: 0ms fitness: (0.000, 1.000, 33.376)\n",
      "\n",
      "[0s] population state (phase: exploitation, speed: 2448.33 gen/sec, improvement ratio: 0.001:0.000):\n",
      "\trank: 0, fitness: (0.000, 1.000, 33.376), difference: 0.000%\n",
      "\trank: 1, fitness: (0.000, 1.000, 34.401), difference: 0.030%\n",
      "[0s] total generations: 2448, speed: 2448.30 gen/sec\n"
     ]
    },
    {
     "data": {
      "text/plain": "Solution(statistic=Statistic(cost=33.376400000000004, distance=11357, duration=1821, times=Times(driving=681, serving=1140, waiting=0, commuting=0, parking=0)), tours=[Tour(vehicleId='vehicle_1', typeId='vehicle', shiftIndex=0, stops=[Stop(location=Location(lat=52.5316, lng=13.3884), time=Schedule(arrival=datetime.datetime(2024, 7, 4, 9, 0, tzinfo=TzInfo(UTC)), departure=datetime.datetime(2024, 7, 4, 9, 47, 27, tzinfo=TzInfo(UTC))), distance=0, load=[1], activities=[Activity(jobId='departure', type='departure', location=None, time=None, jobTag=None)]), Stop(location=Location(lat=52.52599, lng=13.45413), time=Schedule(arrival=datetime.datetime(2024, 7, 4, 9, 51, 57, tzinfo=TzInfo(UTC)), departure=datetime.datetime(2024, 7, 4, 9, 56, 57, tzinfo=TzInfo(UTC))), distance=4495, load=[0], activities=[Activity(jobId='delivery_job', type='delivery', location=None, time=None, jobTag=None)]), Stop(location=Location(lat=52.5225, lng=13.4095), time=Schedule(arrival=datetime.datetime(2024, 7, 4, 10, 0, tzinfo=TzInfo(UTC)), departure=datetime.datetime(2024, 7, 4, 10, 9, tzinfo=TzInfo(UTC))), distance=7543, load=[2], activities=[Activity(jobId='pickup_job', type='pickup', location=Location(lat=52.5225, lng=13.4095), time=Time(start=datetime.datetime(2024, 7, 4, 10, 0, tzinfo=TzInfo(UTC)), end=datetime.datetime(2024, 7, 4, 10, 4, tzinfo=TzInfo(UTC))), jobTag=None), Activity(jobId='multi_job', type='pickup', location=Location(lat=52.5225, lng=13.4095), time=Time(start=datetime.datetime(2024, 7, 4, 10, 4, tzinfo=TzInfo(UTC)), end=datetime.datetime(2024, 7, 4, 10, 9, tzinfo=TzInfo(UTC))), jobTag=None)]), Stop(location=Location(lat=52.5165, lng=13.3808), time=Schedule(arrival=datetime.datetime(2024, 7, 4, 10, 11, 3, tzinfo=TzInfo(UTC)), departure=datetime.datetime(2024, 7, 4, 10, 16, 3, tzinfo=TzInfo(UTC))), distance=9599, load=[1], activities=[Activity(jobId='multi_job', type='delivery', location=None, time=None, jobTag=None)]), Stop(location=Location(lat=52.5316, lng=13.3884), time=Schedule(arrival=datetime.datetime(2024, 7, 4, 10, 17, 48, tzinfo=TzInfo(UTC)), departure=datetime.datetime(2024, 7, 4, 10, 17, 48, tzinfo=TzInfo(UTC))), distance=11357, load=[0], activities=[Activity(jobId='arrival', type='arrival', location=None, time=None, jobTag=None)])], statistic=Statistic(cost=33.376400000000004, distance=11357, duration=1821, times=Times(driving=681, serving=1140, waiting=0, commuting=0, parking=0)))])"
     },
     "execution_count": 7,
     "metadata": {},
     "output_type": "execute_result"
    }
   ],
   "source": [
    "import vrp_cli\n",
    "import json\n",
    "from pydantic.json import pydantic_encoder\n",
    "\n",
    "solution_json = vrp_cli.solve_pragmatic(\n",
    "    problem=problem.model_dump_json(),\n",
    "    matrices=[],\n",
    "    # matrices=[json.dumps(matrix, default=pydantic_encoder)],\n",
    "    config=config.model_dump_json(),\n",
    ")\n",
    "\n",
    "solution = prgs.Solution(**json.loads(solution_json))\n",
    "\n",
    "solution"
   ],
   "metadata": {
    "collapsed": false,
    "ExecuteTime": {
     "end_time": "2024-02-09T16:11:41.169043634Z",
     "start_time": "2024-02-09T16:11:41.164108388Z"
    }
   },
   "id": "143eaca3a03d0732",
   "execution_count": 7
  },
  {
   "cell_type": "code",
   "outputs": [],
   "source": [
    "# get profile name from use align with EnumRouteVehicleProfile from utils\n",
    "#"
   ],
   "metadata": {
    "collapsed": false
   },
   "id": "53b2650ca81e4633"
  }
 ],
 "metadata": {
  "kernelspec": {
   "display_name": "Python 3",
   "language": "python",
   "name": "python3"
  },
  "language_info": {
   "codemirror_mode": {
    "name": "ipython",
    "version": 2
   },
   "file_extension": ".py",
   "mimetype": "text/x-python",
   "name": "python",
   "nbconvert_exporter": "python",
   "pygments_lexer": "ipython2",
   "version": "2.7.6"
  }
 },
 "nbformat": 4,
 "nbformat_minor": 5
}
