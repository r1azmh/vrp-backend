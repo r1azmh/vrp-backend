{
 "cells": [
  {
   "cell_type": "code",
   "execution_count": null,
   "id": "initial_id",
   "metadata": {
    "collapsed": true,
    "ExecuteTime": {
     "end_time": "2024-04-02T15:00:56.355164Z",
     "start_time": "2024-04-02T15:00:56.352372Z"
    }
   },
   "outputs": [],
   "source": []
  },
  {
   "cell_type": "code",
   "outputs": [
    {
     "data": {
      "text/plain": "'{\"plan\":{\"jobs\":[{\"id\":\"delivery_job\",\"pickups\":null,\"deliveries\":[{\"places\":[{\"location\":{\"lat\":52.52599,\"lng\":13.45413},\"duration\":300.0,\"times\":[[\"2024-07-04T09:00:00Z\",\"2024-07-04T18:00:00Z\"]],\"tag\":\"2\"}],\"demand\":[1]}]},{\"id\":\"pickup_job\",\"pickups\":[{\"places\":[{\"location\":{\"lat\":52.5225,\"lng\":13.4095},\"duration\":240.0,\"times\":[[\"2024-07-04T10:00:00Z\",\"2024-07-04T16:00:00Z\"]],\"tag\":\"2\"}],\"demand\":[1]}],\"deliveries\":null},{\"id\":\"multi_job\",\"pickups\":[{\"places\":[{\"location\":{\"lat\":52.5225,\"lng\":13.4095},\"duration\":300.0,\"times\":null,\"tag\":null}],\"demand\":[1]}],\"deliveries\":[{\"places\":[{\"location\":{\"lat\":52.5165,\"lng\":13.3808},\"duration\":300.0,\"times\":null,\"tag\":\"1\"}],\"demand\":[1]}]}],\"relations\":null},\"fleet\":{\"vehicles\":[{\"typeId\":\"vehicle\",\"vehicleIds\":[\"vehicle_1\"],\"profile\":{\"matrix\":\"normal_car\",\"speed\":null},\"costs\":{\"fixed\":22.0,\"distance\":0.0002,\"time\":0.005},\"shifts\":[{\"start\":{\"earliest\":\"2024-07-04T09:00:00Z\",\"location\":{\"lat\":52.5316,\"lng\":13.3884},\"latest\":null},\"end\":{\"latest\":\"2024-07-04T18:00:00Z\",\"location\":{\"lat\":52.5316,\"lng\":13.3884},\"earliest\":null},\"breaks\":null,\"reloads\":null}],\"capacity\":[10]}],\"profiles\":[{\"name\":\"normal_car\",\"speed\":16.67}]},\"objectives\":null}'"
     },
     "execution_count": 1,
     "metadata": {},
     "output_type": "execute_result"
    }
   ],
   "source": [
    "from base.vrp_extra import new_pragmatic_types as prgs\n",
    "from base.vrp_extra import config_types as cfg\n",
    "\n",
    "pickup_job = prgs.Job(\n",
    "    id='pickup_job',\n",
    "    pickups=[\n",
    "        prgs.JobTask(\n",
    "            places=[\n",
    "                prgs.JobPlace(\n",
    "                    location=prgs.Location(lat=52.5225, lng=13.4095),\n",
    "                    duration=240,\n",
    "                    times=[['2024-07-04T10:00:00Z', '2024-07-04T16:00:00Z']],\n",
    "                    tag=\"2\"\n",
    "                )\n",
    "            ],\n",
    "            demand=[1]\n",
    "        )\n",
    "    ]\n",
    ")\n",
    "\n",
    "delivery_job = prgs.Job(\n",
    "    id='delivery_job',\n",
    "    deliveries=[\n",
    "        prgs.JobTask(\n",
    "            places=[\n",
    "                prgs.JobPlace(\n",
    "                    location=prgs.Location(lat=52.52599, lng=13.45413),\n",
    "                    duration=300,\n",
    "                    tag=\"2\",\n",
    "                    times=[['2024-07-04T09:00:00Z', '2024-07-04T18:00:00Z']]\n",
    "                ),\n",
    "            ],\n",
    "            demand=[1]\n",
    "        )\n",
    "    ]\n",
    ")\n",
    "\n",
    "multi_job = prgs.Job(\n",
    "    id=\"multi_job\",\n",
    "    pickups=[\n",
    "        prgs.JobTask(\n",
    "            places=[\n",
    "                prgs.JobPlace(\n",
    "                    location=prgs.Location(lat=52.5225, lng=13.4095),\n",
    "                    duration=300\n",
    "                )\n",
    "            ],\n",
    "            demand=[1]\n",
    "        )\n",
    "    ],\n",
    "    deliveries=[\n",
    "        prgs.JobTask(\n",
    "            places=[\n",
    "                prgs.JobPlace(\n",
    "                    location=prgs.Location(lat=52.5165, lng=13.3808),\n",
    "                    duration=300,\n",
    "                    tag=\"1\"\n",
    "                ),\n",
    "            ],\n",
    "            demand=[1]\n",
    "        )\n",
    "    ]\n",
    ")\n",
    "\n",
    "vehicle_type = prgs.VehicleType(\n",
    "    typeId='vehicle',\n",
    "    vehicleIds=['vehicle_1'],\n",
    "    profile=prgs.VehicleProfile(matrix='normal_car'),\n",
    "    costs=prgs.VehicleCosts(fixed=22, distance=0.0002, time=0.005),\n",
    "    shifts=[\n",
    "        prgs.VehicleShift(\n",
    "            start=prgs.VehicleShiftStart(\n",
    "                earliest=\"2024-07-04T09:00:00Z\",\n",
    "                location=prgs.Location(lat=52.5316, lng=13.3884),\n",
    "            ),\n",
    "            end=prgs.VehicleShiftEnd(\n",
    "                latest=\"2024-07-04T18:00:00Z\",\n",
    "                location=prgs.Location(lat=52.5316, lng=13.3884),\n",
    "            )\n",
    "        )\n",
    "    ],\n",
    "    capacity=[10]\n",
    ")\n",
    "\n",
    "matrix = prgs.RoutingMatrix(\n",
    "    profile='normal_car',\n",
    "    durations=[0, 609, 981, 906, 813, 0, 371, 590, 1055, 514, 0, 439, 948, 511, 463, 0],\n",
    "    distances=[0, 3840, 5994, 5333, 4696, 0, 2154, 3226, 5763, 2674, 0, 2145, 5112, 2470, 2152, 0]\n",
    ")\n",
    "\n",
    "profile = prgs.RoutingProfile(name='normal_car', speed=16.67)\n",
    "\n",
    "config = cfg.Config(\n",
    "    termination=cfg.Termination(\n",
    "        maxTime=1,\n",
    "        maxGenerations=3000\n",
    "    )\n",
    ")\n",
    "\n",
    "problem = prgs.Problem(\n",
    "    plan=prgs.Plan(\n",
    "        jobs=[delivery_job, pickup_job, multi_job]\n",
    "    ),\n",
    "    fleet=prgs.Fleet(\n",
    "        vehicles=[vehicle_type],\n",
    "        profiles=[profile]\n",
    "    )\n",
    ")\n",
    "problem.model_dump_json()"
   ],
   "metadata": {
    "collapsed": false,
    "ExecuteTime": {
     "end_time": "2024-04-02T15:00:56.556343Z",
     "start_time": "2024-04-02T15:00:56.357291Z"
    }
   },
   "id": "1f4b2cce43b50404",
   "execution_count": 1
  },
  {
   "cell_type": "code",
   "outputs": [
    {
     "data": {
      "text/plain": "(VehicleType(typeId='_vehicle.name', vehicleIds=['name'], profile=VehicleProfile(matrix='_vehicle.profile.name', speed=None), costs=VehicleCosts(fixed=10.88, distance=11.0, time=10.0), shifts=[VehicleShift(start=VehicleShiftStart(earliest=datetime.datetime(2023, 6, 5, 0, 1, tzinfo=TzInfo(UTC)), location=Location(lat=4546.4545, lng=3434.3434), latest=None), end=VehicleShiftEnd(latest=datetime.datetime(2023, 6, 5, 23, 59, tzinfo=TzInfo(UTC)), location=Location(lat=45.5656565, lng=4545.45454), earliest=None), breaks=None, reloads=None)], capacity=[10]),\n Fleet(vehicles=[VehicleType(typeId='vehicle', vehicleIds=['vehicle_1'], profile=VehicleProfile(matrix='normal_car', speed=None), costs=VehicleCosts(fixed=22.0, distance=0.0002, time=0.005), shifts=[VehicleShift(start=VehicleShiftStart(earliest=datetime.datetime(2024, 7, 4, 9, 0, tzinfo=TzInfo(UTC)), location=Location(lat=52.5316, lng=13.3884), latest=None), end=VehicleShiftEnd(latest=datetime.datetime(2024, 7, 4, 18, 0, tzinfo=TzInfo(UTC)), location=Location(lat=52.5316, lng=13.3884), earliest=None), breaks=None, reloads=None)], capacity=[10]), VehicleType(typeId='vehicle', vehicleIds=['vehicle_1'], profile=VehicleProfile(matrix='normal_car', speed=None), costs=VehicleCosts(fixed=22.0, distance=0.0002, time=0.005), shifts=[VehicleShift(start=VehicleShiftStart(earliest=datetime.datetime(2024, 7, 4, 9, 0, tzinfo=TzInfo(UTC)), location=Location(lat=52.5316, lng=13.3884), latest=None), end=VehicleShiftEnd(latest=datetime.datetime(2024, 7, 4, 18, 0, tzinfo=TzInfo(UTC)), location=Location(lat=52.5316, lng=13.3884), earliest=None), breaks=None, reloads=None)], capacity=[10]), VehicleType(typeId='vehicle', vehicleIds=['vehicle_1'], profile=VehicleProfile(matrix='normal_car', speed=None), costs=VehicleCosts(fixed=22.0, distance=0.0002, time=0.005), shifts=[VehicleShift(start=VehicleShiftStart(earliest=datetime.datetime(2024, 7, 4, 9, 0, tzinfo=TzInfo(UTC)), location=Location(lat=52.5316, lng=13.3884), latest=None), end=VehicleShiftEnd(latest=datetime.datetime(2024, 7, 4, 18, 0, tzinfo=TzInfo(UTC)), location=Location(lat=52.5316, lng=13.3884), earliest=None), breaks=None, reloads=None)], capacity=[10]), VehicleType(typeId='vehicle', vehicleIds=['vehicle_1'], profile=VehicleProfile(matrix='normal_car', speed=None), costs=VehicleCosts(fixed=22.0, distance=0.0002, time=0.005), shifts=[VehicleShift(start=VehicleShiftStart(earliest=datetime.datetime(2024, 7, 4, 9, 0, tzinfo=TzInfo(UTC)), location=Location(lat=52.5316, lng=13.3884), latest=None), end=VehicleShiftEnd(latest=datetime.datetime(2024, 7, 4, 18, 0, tzinfo=TzInfo(UTC)), location=Location(lat=52.5316, lng=13.3884), earliest=None), breaks=None, reloads=None)], capacity=[10])], profiles=[RoutingProfile(name='normal_car', speed=16.67), RoutingProfile(name='normal_car', speed=16.67), RoutingProfile(name='normal_car', speed=16.67)]))"
     },
     "execution_count": 2,
     "metadata": {},
     "output_type": "execute_result"
    }
   ],
   "source": [
    "fleet = prgs.Fleet(vehicles=[vehicle_type, vehicle_type, vehicle_type, vehicle_type],\n",
    "                      profiles=[profile, profile, profile])\n",
    "vehicle_type = prgs.VehicleType(\n",
    "        typeId='_vehicle.name',\n",
    "        vehicleIds=['name'],\n",
    "        profile=prgs.VehicleProfile(matrix='_vehicle.profile.name'),\n",
    "        costs=prgs.VehicleCosts(\n",
    "            fixed=10.88,\n",
    "            distance=11,\n",
    "            time=10),\n",
    "        shifts=[\n",
    "            prgs.VehicleShift(\n",
    "                start=prgs.VehicleShiftStart(\n",
    "                    earliest=\"2023-06-05T00:01:00.000Z\",\n",
    "                    location=prgs.Location(lat=4546.4545, lng=3434.3434),\n",
    "                ),\n",
    "                end=prgs.VehicleShiftEnd(\n",
    "                    latest='2023-06-05T23:59:00.000Z',\n",
    "                    location=prgs.Location(lat=45.5656565, lng=4545.45454),\n",
    "                )\n",
    "            )\n",
    "        ],\n",
    "        capacity=[10]\n",
    "    )\n",
    "vehicle_type, fleet"
   ],
   "metadata": {
    "collapsed": false,
    "ExecuteTime": {
     "end_time": "2024-04-02T15:00:56.567407Z",
     "start_time": "2024-04-02T15:00:56.558370Z"
    }
   },
   "id": "496c1b6e97c270c5",
   "execution_count": 2
  },
  {
   "cell_type": "code",
   "outputs": [
    {
     "name": "stdout",
     "output_type": "stream",
     "text": [
      "configured to use max-generations: 3000\n",
      "configured to use max-time: 1s\n",
      "configured to use custom heuristic\n",
      "total jobs: 3, actors: 1\n",
      "preparing initial solution(-s)\n",
      "[0s] created initial solution in 0ms, fitness: (0.000, 1.000, 44.406)\n",
      "[0s] created initial solution in 0ms, fitness: (0.000, 1.000, 44.406)\n",
      "[0s] created initial solution in 0ms, fitness: (0.000, 1.000, 44.406)\n",
      "[0s] created initial solution in 0ms, fitness: (0.000, 1.000, 44.406)\n",
      "created initial population in 0ms\n",
      "[0s] generation 0 took 0ms, median: 0ms fitness: (0.000, 1.000, 44.406)\n",
      "[0s] population state (phase: initial, speed: 0.00 gen/sec, improvement ratio: 0.000:0.000):\n",
      "\trank: 0, fitness: (0.000, 1.000, 44.406), difference: 0.000%\n",
      "[0s] generation 100 took 0ms, median: 0ms fitness: (0.000, 1.000, 34.401)\n",
      "[0s] generation 200 took 0ms, median: 1ms fitness: (0.000, 1.000, 34.401)\n",
      "[0s] generation 300 took 0ms, median: 0ms fitness: (0.000, 1.000, 33.376)\n",
      "[0s] generation 400 took 0ms, median: 0ms fitness: (0.000, 1.000, 33.376)\n",
      "[0s] generation 500 took 0ms, median: 0ms fitness: (0.000, 1.000, 33.376)\n",
      "[0s] generation 600 took 0ms, median: 0ms fitness: (0.000, 1.000, 33.376)\n",
      "[0s] generation 700 took 0ms, median: 0ms fitness: (0.000, 1.000, 33.376)\n",
      "[0s] generation 800 took 0ms, median: 1ms fitness: (0.000, 1.000, 33.376)\n",
      "[0s] generation 900 took 0ms, median: 1ms fitness: (0.000, 1.000, 33.376)\n",
      "[0s] generation 1000 took 0ms, median: 1ms fitness: (0.000, 1.000, 33.376)\n",
      "[0s] population state (phase: exploration, speed: 2011.84 gen/sec, improvement ratio: 0.002:0.002):\n",
      "\trank: 0, fitness: (0.000, 1.000, 33.376), difference: 0.000%\n",
      "\trank: 1, fitness: (0.000, 1.000, 34.401), difference: 0.030%\n",
      "[0s] generation 1100 took 0ms, median: 1ms fitness: (0.000, 1.000, 33.376)\n",
      "[0s] generation 1200 took 0ms, median: 0ms fitness: (0.000, 1.000, 33.376)\n",
      "[0s] generation 1300 took 0ms, median: 0ms fitness: (0.000, 1.000, 33.376)\n",
      "[0s] generation 1400 took 0ms, median: 0ms fitness: (0.000, 1.000, 33.376)\n",
      "[0s] generation 1500 took 0ms, median: 0ms fitness: (0.000, 1.000, 33.376)\n",
      "[0s] generation 1600 took 0ms, median: 0ms fitness: (0.000, 1.000, 33.376)\n",
      "[0s] generation 1700 took 0ms, median: 0ms fitness: (0.000, 1.000, 33.376)\n",
      "[0s] generation 1800 took 0ms, median: 0ms fitness: (0.000, 1.000, 33.376)\n",
      "[0s] generation 1900 took 0ms, median: 0ms fitness: (0.000, 1.000, 33.376)\n",
      "[0s] generation 2000 took 0ms, median: 0ms fitness: (0.000, 1.000, 33.376)\n",
      "[0s] population state (phase: exploration, speed: 2222.04 gen/sec, improvement ratio: 0.001:0.000):\n",
      "\trank: 0, fitness: (0.000, 1.000, 33.376), difference: 0.000%\n",
      "\trank: 1, fitness: (0.000, 1.000, 34.401), difference: 0.030%\n",
      "[0s] generation 2100 took 0ms, median: 0ms fitness: (0.000, 1.000, 33.376)\n",
      "[0s] generation 2200 took 0ms, median: 0ms fitness: (0.000, 1.000, 33.376)\n",
      "[0s] generation 2300 took 0ms, median: 0ms fitness: (0.000, 1.000, 33.376)\n",
      "[0s] generation 2400 took 0ms, median: 0ms fitness: (0.000, 1.000, 33.376)\n",
      "\n",
      "[0s] population state (phase: exploitation, speed: 2449.04 gen/sec, improvement ratio: 0.001:0.000):\n",
      "\trank: 0, fitness: (0.000, 1.000, 33.376), difference: 0.000%\n",
      "\trank: 1, fitness: (0.000, 1.000, 34.401), difference: 0.030%\n",
      "[0s] total generations: 2449, speed: 2449.01 gen/sec\n"
     ]
    },
    {
     "data": {
      "text/plain": "Solution(statistic=Statistic(cost=33.376400000000004, distance=11357, duration=1821, times=Times(driving=681, serving=1140, waiting=0, commuting=0, parking=0)), tours=[Tour(vehicleId='vehicle_1', typeId='vehicle', shiftIndex=0, stops=[Stop(location=Location(lat=52.5316, lng=13.3884), time=Schedule(arrival=datetime.datetime(2024, 7, 4, 9, 0, tzinfo=TzInfo(UTC)), departure=datetime.datetime(2024, 7, 4, 9, 47, 27, tzinfo=TzInfo(UTC))), distance=0, load=[1], activities=[Activity(jobId='departure', type='departure', location=None, time=None, jobTag=None)]), Stop(location=Location(lat=52.52599, lng=13.45413), time=Schedule(arrival=datetime.datetime(2024, 7, 4, 9, 51, 57, tzinfo=TzInfo(UTC)), departure=datetime.datetime(2024, 7, 4, 9, 56, 57, tzinfo=TzInfo(UTC))), distance=4495, load=[0], activities=[Activity(jobId='delivery_job', type='delivery', location=None, time=None, jobTag='2')]), Stop(location=Location(lat=52.5225, lng=13.4095), time=Schedule(arrival=datetime.datetime(2024, 7, 4, 10, 0, tzinfo=TzInfo(UTC)), departure=datetime.datetime(2024, 7, 4, 10, 9, tzinfo=TzInfo(UTC))), distance=7543, load=[2], activities=[Activity(jobId='pickup_job', type='pickup', location=Location(lat=52.5225, lng=13.4095), time=Time(start=datetime.datetime(2024, 7, 4, 10, 0, tzinfo=TzInfo(UTC)), end=datetime.datetime(2024, 7, 4, 10, 4, tzinfo=TzInfo(UTC))), jobTag='2'), Activity(jobId='multi_job', type='pickup', location=Location(lat=52.5225, lng=13.4095), time=Time(start=datetime.datetime(2024, 7, 4, 10, 4, tzinfo=TzInfo(UTC)), end=datetime.datetime(2024, 7, 4, 10, 9, tzinfo=TzInfo(UTC))), jobTag=None)]), Stop(location=Location(lat=52.5165, lng=13.3808), time=Schedule(arrival=datetime.datetime(2024, 7, 4, 10, 11, 3, tzinfo=TzInfo(UTC)), departure=datetime.datetime(2024, 7, 4, 10, 16, 3, tzinfo=TzInfo(UTC))), distance=9599, load=[1], activities=[Activity(jobId='multi_job', type='delivery', location=None, time=None, jobTag='1')]), Stop(location=Location(lat=52.5316, lng=13.3884), time=Schedule(arrival=datetime.datetime(2024, 7, 4, 10, 17, 48, tzinfo=TzInfo(UTC)), departure=datetime.datetime(2024, 7, 4, 10, 17, 48, tzinfo=TzInfo(UTC))), distance=11357, load=[0], activities=[Activity(jobId='arrival', type='arrival', location=None, time=None, jobTag=None)])], statistic=Statistic(cost=33.376400000000004, distance=11357, duration=1821, times=Times(driving=681, serving=1140, waiting=0, commuting=0, parking=0)))])"
     },
     "execution_count": 3,
     "metadata": {},
     "output_type": "execute_result"
    }
   ],
   "source": [
    "import vrp_cli\n",
    "import json\n",
    "from pydantic.json import pydantic_encoder\n",
    "\n",
    "solution_json = vrp_cli.solve_pragmatic(\n",
    "    problem=problem.model_dump_json(),\n",
    "    matrices=[],\n",
    "    # matrices=[json.dumps(matrix, default=pydantic_encoder)],\n",
    "    config=config.model_dump_json(),\n",
    ")\n",
    "\n",
    "solution = prgs.Solution(**json.loads(solution_json))\n",
    "\n",
    "solution"
   ],
   "metadata": {
    "collapsed": false,
    "ExecuteTime": {
     "end_time": "2024-04-02T15:00:57.586405Z",
     "start_time": "2024-04-02T15:00:56.568842Z"
    }
   },
   "id": "143eaca3a03d0732",
   "execution_count": 3
  },
  {
   "cell_type": "code",
   "outputs": [
    {
     "data": {
      "text/plain": "{'statistic': {'cost': 33.376400000000004,\n  'distance': 11357,\n  'duration': 1821,\n  'times': {'driving': 681,\n   'serving': 1140,\n   'waiting': 0,\n   'commuting': 0,\n   'parking': 0}},\n 'tours': [{'vehicleId': 'vehicle_1',\n   'typeId': 'vehicle',\n   'shiftIndex': 0,\n   'stops': [{'location': {'lat': 52.5316, 'lng': 13.3884},\n     'time': {'arrival': datetime.datetime(2024, 7, 4, 9, 0, tzinfo=TzInfo(UTC)),\n      'departure': datetime.datetime(2024, 7, 4, 9, 47, 27, tzinfo=TzInfo(UTC))},\n     'distance': 0,\n     'load': [1],\n     'activities': [{'jobId': 'departure',\n       'type': 'departure',\n       'location': None,\n       'time': None,\n       'jobTag': None}]},\n    {'location': {'lat': 52.52599, 'lng': 13.45413},\n     'time': {'arrival': datetime.datetime(2024, 7, 4, 9, 51, 57, tzinfo=TzInfo(UTC)),\n      'departure': datetime.datetime(2024, 7, 4, 9, 56, 57, tzinfo=TzInfo(UTC))},\n     'distance': 4495,\n     'load': [0],\n     'activities': [{'jobId': 'delivery_job',\n       'type': 'delivery',\n       'location': None,\n       'time': None,\n       'jobTag': '2'}]},\n    {'location': {'lat': 52.5225, 'lng': 13.4095},\n     'time': {'arrival': datetime.datetime(2024, 7, 4, 10, 0, tzinfo=TzInfo(UTC)),\n      'departure': datetime.datetime(2024, 7, 4, 10, 9, tzinfo=TzInfo(UTC))},\n     'distance': 7543,\n     'load': [2],\n     'activities': [{'jobId': 'pickup_job',\n       'type': 'pickup',\n       'location': {'lat': 52.5225, 'lng': 13.4095},\n       'time': {'start': datetime.datetime(2024, 7, 4, 10, 0, tzinfo=TzInfo(UTC)),\n        'end': datetime.datetime(2024, 7, 4, 10, 4, tzinfo=TzInfo(UTC))},\n       'jobTag': '2'},\n      {'jobId': 'multi_job',\n       'type': 'pickup',\n       'location': {'lat': 52.5225, 'lng': 13.4095},\n       'time': {'start': datetime.datetime(2024, 7, 4, 10, 4, tzinfo=TzInfo(UTC)),\n        'end': datetime.datetime(2024, 7, 4, 10, 9, tzinfo=TzInfo(UTC))},\n       'jobTag': None}]},\n    {'location': {'lat': 52.5165, 'lng': 13.3808},\n     'time': {'arrival': datetime.datetime(2024, 7, 4, 10, 11, 3, tzinfo=TzInfo(UTC)),\n      'departure': datetime.datetime(2024, 7, 4, 10, 16, 3, tzinfo=TzInfo(UTC))},\n     'distance': 9599,\n     'load': [1],\n     'activities': [{'jobId': 'multi_job',\n       'type': 'delivery',\n       'location': None,\n       'time': None,\n       'jobTag': '1'}]},\n    {'location': {'lat': 52.5316, 'lng': 13.3884},\n     'time': {'arrival': datetime.datetime(2024, 7, 4, 10, 17, 48, tzinfo=TzInfo(UTC)),\n      'departure': datetime.datetime(2024, 7, 4, 10, 17, 48, tzinfo=TzInfo(UTC))},\n     'distance': 11357,\n     'load': [0],\n     'activities': [{'jobId': 'arrival',\n       'type': 'arrival',\n       'location': None,\n       'time': None,\n       'jobTag': None}]}],\n   'statistic': {'cost': 33.376400000000004,\n    'distance': 11357,\n    'duration': 1821,\n    'times': {'driving': 681,\n     'serving': 1140,\n     'waiting': 0,\n     'commuting': 0,\n     'parking': 0}}}]}"
     },
     "execution_count": 4,
     "metadata": {},
     "output_type": "execute_result"
    }
   ],
   "source": [
    "solution.model_dump()"
   ],
   "metadata": {
    "collapsed": false,
    "ExecuteTime": {
     "end_time": "2024-04-02T15:00:57.597341Z",
     "start_time": "2024-04-02T15:00:57.588706Z"
    }
   },
   "id": "53b2650ca81e4633",
   "execution_count": 4
  },
  {
   "cell_type": "code",
   "outputs": [
    {
     "data": {
      "text/plain": "Stop(location=Location(lat=52.52599, lng=13.45413), time=Schedule(arrival=datetime.datetime(2024, 7, 4, 9, 51, 57, tzinfo=TzInfo(UTC)), departure=datetime.datetime(2024, 7, 4, 9, 56, 57, tzinfo=TzInfo(UTC))), distance=4495, load=[0], activities=[Activity(jobId='delivery_job', type='delivery', location=None, time=None, jobTag='2')])"
     },
     "execution_count": 5,
     "metadata": {},
     "output_type": "execute_result"
    }
   ],
   "source": [
    "solution.tours[0].stops[1]"
   ],
   "metadata": {
    "collapsed": false,
    "ExecuteTime": {
     "end_time": "2024-04-02T15:00:57.605045Z",
     "start_time": "2024-04-02T15:00:57.599059Z"
    }
   },
   "id": "de01cff69f41d09",
   "execution_count": 5
  },
  {
   "cell_type": "code",
   "outputs": [
    {
     "data": {
      "text/plain": "Stop(location=Location(lat=52.5316, lng=13.3884), time=Schedule(arrival=datetime.datetime(2024, 7, 4, 9, 0, tzinfo=TzInfo(UTC)), departure=datetime.datetime(2024, 7, 4, 9, 47, 27, tzinfo=TzInfo(UTC))), distance=0, load=[1], activities=[Activity(jobId='departure', type='departure', location=None, time=None, jobTag=None)])"
     },
     "execution_count": 6,
     "metadata": {},
     "output_type": "execute_result"
    }
   ],
   "source": [
    "solution.tours[0].stops[0]"
   ],
   "metadata": {
    "collapsed": false,
    "ExecuteTime": {
     "end_time": "2024-04-02T15:00:57.611294Z",
     "start_time": "2024-04-02T15:00:57.606385Z"
    }
   },
   "id": "ce1bb6f54a01488",
   "execution_count": 6
  },
  {
   "cell_type": "code",
   "outputs": [
    {
     "data": {
      "text/plain": "Stop(location=Location(lat=52.5316, lng=13.3884), time=Schedule(arrival=datetime.datetime(2024, 7, 4, 10, 17, 48, tzinfo=TzInfo(UTC)), departure=datetime.datetime(2024, 7, 4, 10, 17, 48, tzinfo=TzInfo(UTC))), distance=11357, load=[0], activities=[Activity(jobId='arrival', type='arrival', location=None, time=None, jobTag=None)])"
     },
     "execution_count": 7,
     "metadata": {},
     "output_type": "execute_result"
    }
   ],
   "source": [
    "solution.tours[0].stops[4]"
   ],
   "metadata": {
    "collapsed": false,
    "ExecuteTime": {
     "end_time": "2024-04-02T15:00:57.616979Z",
     "start_time": "2024-04-02T15:00:57.612845Z"
    }
   },
   "id": "4eccef228cbd3b27",
   "execution_count": 7
  },
  {
   "cell_type": "code",
   "outputs": [
    {
     "data": {
      "text/plain": "{'statistic': {'cost': 2506.798363755,\n  'distance': 1177345,\n  'duration': 91265,\n  'times': {'driving': 75965,\n   'serving': 15300,\n   'waiting': 0,\n   'commuting': 0,\n   'parking': 0}},\n 'tours': [{'vehicleId': 'Truck3',\n   'typeId': 'Truck3',\n   'shiftIndex': 0,\n   'stops': [{'location': {'lat': 61.98033079191613,\n      'lng': 22.288086119266257},\n     'time': {'arrival': '2023-06-05T00:01:00Z',\n      'departure': '2023-06-05T17:16:08Z'},\n     'distance': 0,\n     'load': [0],\n     'activities': [{'jobId': 'departure',\n       'type': 'departure',\n       'location': None,\n       'time': None,\n       'jobTag': None}]},\n    {'location': {'lat': 62.842073134544165, 'lng': 22.95919658996152},\n     'time': {'arrival': '2023-06-05T19:19:59Z',\n      'departure': '2023-06-05T19:34:59Z'},\n     'distance': 116163,\n     'load': [1],\n     'activities': [{'jobId': 'Container301',\n       'type': 'pickup',\n       'location': None,\n       'time': None,\n       'jobTag': '28'}]},\n    {'location': {'lat': 62.84199478051535, 'lng': 22.95923949624849},\n     'time': {'arrival': '2023-06-05T19:34:59Z',\n      'departure': '2023-06-05T19:49:59Z'},\n     'distance': 116163,\n     'load': [2],\n     'activities': [{'jobId': 'Container656',\n       'type': 'pickup',\n       'location': None,\n       'time': None,\n       'jobTag': '27'}]},\n    {'location': {'lat': 62.84193601485666, 'lng': 22.959454027683385},\n     'time': {'arrival': '2023-06-05T19:50:00Z',\n      'departure': '2023-06-05T20:05:00Z'},\n     'distance': 116172,\n     'load': [3],\n     'activities': [{'jobId': 'Container405',\n       'type': 'pickup',\n       'location': None,\n       'time': None,\n       'jobTag': '33'}]},\n    {'location': {'lat': 61.98033079191613, 'lng': 22.288086119266257},\n     'time': {'arrival': '2023-06-05T22:10:02Z',\n      'departure': '2023-06-05T22:10:02Z'},\n     'distance': 233479,\n     'load': [0],\n     'activities': [{'jobId': 'arrival',\n       'type': 'arrival',\n       'location': None,\n       'time': None,\n       'jobTag': None}]}],\n   'statistic': {'cost': 496.34800587800004,\n    'distance': 233479,\n    'duration': 17634,\n    'times': {'driving': 14934,\n     'serving': 2700,\n     'waiting': 0,\n     'commuting': 0,\n     'parking': 0}}},\n  {'vehicleId': 'Truck1',\n   'typeId': 'Truck1',\n   'shiftIndex': 0,\n   'stops': [{'location': {'lat': 61.980300236389134,\n      'lng': 22.287830378031305},\n     'time': {'arrival': '2023-06-05T00:01:00Z',\n      'departure': '2023-06-05T14:26:10Z'},\n     'distance': 0,\n     'load': [0],\n     'activities': [{'jobId': 'departure',\n       'type': 'departure',\n       'location': None,\n       'time': None,\n       'jobTag': None}]},\n    {'location': {'lat': 62.44569562300121, 'lng': 22.21075959562566},\n     'time': {'arrival': '2023-06-05T15:31:00Z',\n      'departure': '2023-06-05T15:46:00Z'},\n     'distance': 57962,\n     'load': [1],\n     'activities': [{'jobId': 'Container106',\n       'type': 'pickup',\n       'location': None,\n       'time': None,\n       'jobTag': '23'}]},\n    {'location': {'lat': 62.445933848100665, 'lng': 22.210933448859112},\n     'time': {'arrival': '2023-06-05T15:46:00Z',\n      'departure': '2023-06-05T16:01:00Z'},\n     'distance': 57962,\n     'load': [2],\n     'activities': [{'jobId': 'Container708',\n       'type': 'pickup',\n       'location': None,\n       'time': None,\n       'jobTag': '25'}]},\n    {'location': {'lat': 62.44581473578822, 'lng': 22.21058246366468},\n     'time': {'arrival': '2023-06-05T16:01:00Z',\n      'departure': '2023-06-05T16:16:00Z'},\n     'distance': 57962,\n     'load': [3],\n     'activities': [{'jobId': 'Container511',\n       'type': 'pickup',\n       'location': None,\n       'time': None,\n       'jobTag': '30'}]},\n    {'location': {'lat': 61.980300236389134, 'lng': 22.287830378031305},\n     'time': {'arrival': '2023-06-05T17:21:04Z',\n      'departure': '2023-06-05T17:21:04Z'},\n     'distance': 115980,\n     'load': [0],\n     'activities': [{'jobId': 'arrival',\n       'type': 'arrival',\n       'location': None,\n       'time': None,\n       'jobTag': None}]}],\n   'statistic': {'cost': 249.450003498,\n    'distance': 115980,\n    'duration': 10494,\n    'times': {'driving': 7794,\n     'serving': 2700,\n     'waiting': 0,\n     'commuting': 0,\n     'parking': 0}}},\n  {'vehicleId': 'Truck2',\n   'typeId': 'Truck2',\n   'shiftIndex': 0,\n   'stops': [{'location': {'lat': 61.98029351599637,\n      'lng': 22.287486265947035},\n     'time': {'arrival': '2023-06-05T00:01:00Z',\n      'departure': '2023-06-05T07:16:56Z'},\n     'distance': 0,\n     'load': [0],\n     'activities': [{'jobId': 'departure',\n       'type': 'departure',\n       'location': None,\n       'time': None,\n       'jobTag': None}]},\n    {'location': {'lat': 62.84176134976568, 'lng': 22.95955992253563},\n     'time': {'arrival': '2023-06-05T09:20:48Z',\n      'departure': '2023-06-05T09:35:48Z'},\n     'distance': 116156,\n     'load': [1],\n     'activities': [{'jobId': 'Container633',\n       'type': 'pickup',\n       'location': None,\n       'time': None,\n       'jobTag': '16'}]},\n    {'location': {'lat': 62.8419294857303, 'lng': 22.959714816590857},\n     'time': {'arrival': '2023-06-05T09:36:00Z',\n      'departure': '2023-06-05T09:51:00Z'},\n     'distance': 116226,\n     'load': [2],\n     'activities': [{'jobId': 'Container410',\n       'type': 'pickup',\n       'location': None,\n       'time': None,\n       'jobTag': '20'}]},\n    {'location': {'lat': 62.8423473720002, 'lng': 22.95992599684018},\n     'time': {'arrival': '2023-06-05T09:51:05Z',\n      'departure': '2023-06-05T10:06:05Z'},\n     'distance': 116257,\n     'load': [3],\n     'activities': [{'jobId': 'Container648',\n       'type': 'pickup',\n       'location': None,\n       'time': None,\n       'jobTag': '21'}]},\n    {'location': {'lat': 61.98029351599637, 'lng': 22.287486265947035},\n     'time': {'arrival': '2023-06-05T12:11:12Z',\n      'departure': '2023-06-05T12:11:12Z'},\n     'distance': 233577,\n     'load': [0],\n     'activities': [{'jobId': 'arrival',\n       'type': 'arrival',\n       'location': None,\n       'time': None,\n       'jobTag': None}]}],\n   'statistic': {'cost': 496.580672552,\n    'distance': 233577,\n    'duration': 17656,\n    'times': {'driving': 14956,\n     'serving': 2700,\n     'waiting': 0,\n     'commuting': 0,\n     'parking': 0}}},\n  {'vehicleId': 'Truck5',\n   'typeId': 'Truck5',\n   'shiftIndex': 0,\n   'stops': [{'location': {'lat': 61.98045695246105, 'lng': 22.28805250437794},\n     'time': {'arrival': '2023-06-05T00:01:00Z',\n      'departure': '2023-06-05T14:56:10Z'},\n     'distance': 0,\n     'load': [0],\n     'activities': [{'jobId': 'departure',\n       'type': 'departure',\n       'location': None,\n       'time': None,\n       'jobTag': None}]},\n    {'location': {'lat': 62.44558560797924, 'lng': 22.211629820679516},\n     'time': {'arrival': '2023-06-05T16:00:40Z',\n      'departure': '2023-06-05T16:15:40Z'},\n     'distance': 57959,\n     'load': [1],\n     'activities': [{'jobId': 'Container134',\n       'type': 'pickup',\n       'location': None,\n       'time': None,\n       'jobTag': '19'}]},\n    {'location': {'lat': 62.445531841538305, 'lng': 22.211479201950432},\n     'time': {'arrival': '2023-06-05T16:16:13Z',\n      'departure': '2023-06-05T16:31:13Z'},\n     'distance': 58177,\n     'load': [2],\n     'activities': [{'jobId': 'Container328',\n       'type': 'pickup',\n       'location': None,\n       'time': None,\n       'jobTag': '29'}]},\n    {'location': {'lat': 61.98045695246105, 'lng': 22.28805250437794},\n     'time': {'arrival': '2023-06-05T17:36:16Z',\n      'departure': '2023-06-05T17:36:16Z'},\n     'distance': 116198,\n     'load': [0],\n     'activities': [{'jobId': 'arrival',\n       'type': 'arrival',\n       'location': None,\n       'time': None,\n       'jobTag': None}]}],\n   'statistic': {'cost': 248.406003202,\n    'distance': 116198,\n    'duration': 9606,\n    'times': {'driving': 7806,\n     'serving': 1800,\n     'waiting': 0,\n     'commuting': 0,\n     'parking': 0}}},\n  {'vehicleId': 'Truck4',\n   'typeId': 'Truck4',\n   'shiftIndex': 0,\n   'stops': [{'location': {'lat': 61.98027031023442, 'lng': 22.28808596747195},\n     'time': {'arrival': '2023-06-05T00:01:00Z',\n      'departure': '2023-06-05T10:31:28Z'},\n     'distance': 0,\n     'load': [0],\n     'activities': [{'jobId': 'departure',\n       'type': 'departure',\n       'location': None,\n       'time': None,\n       'jobTag': None}]},\n    {'location': {'lat': 62.44581473578822, 'lng': 22.21118782522768},\n     'time': {'arrival': '2023-06-05T11:36:00Z',\n      'departure': '2023-06-05T11:51:00Z'},\n     'distance': 57979,\n     'load': [1],\n     'activities': [{'jobId': 'Container530',\n       'type': 'pickup',\n       'location': None,\n       'time': None,\n       'jobTag': '24'}]},\n    {'location': {'lat': 62.44597024303092, 'lng': 22.2116537105257},\n     'time': {'arrival': '2023-06-05T11:51:01Z',\n      'departure': '2023-06-05T12:06:01Z'},\n     'distance': 58004,\n     'load': [2],\n     'activities': [{'jobId': 'Container186',\n       'type': 'pickup',\n       'location': None,\n       'time': None,\n       'jobTag': '22'}]},\n    {'location': {'lat': 62.842895839236306, 'lng': 22.95919658996152},\n     'time': {'arrival': '2023-06-05T13:15:55Z',\n      'departure': '2023-06-05T13:30:55Z'},\n     'distance': 127510,\n     'load': [3],\n     'activities': [{'jobId': 'Container661',\n       'type': 'pickup',\n       'location': None,\n       'time': None,\n       'jobTag': '18'}]},\n    {'location': {'lat': 61.98027031023442, 'lng': 22.28808596747195},\n     'time': {'arrival': '2023-06-05T15:35:38Z',\n      'departure': '2023-06-05T15:35:38Z'},\n     'distance': 244711,\n     'load': [0],\n     'activities': [{'jobId': 'arrival',\n       'type': 'arrival',\n       'location': None,\n       'time': None,\n       'jobTag': None}]}],\n   'statistic': {'cost': 519.8386727500001,\n    'distance': 244711,\n    'duration': 18250,\n    'times': {'driving': 15550,\n     'serving': 2700,\n     'waiting': 0,\n     'commuting': 0,\n     'parking': 0}}},\n  {'vehicleId': 'Truck6',\n   'typeId': 'Truck6',\n   'shiftIndex': 0,\n   'stops': [{'location': {'lat': 61.98052567646762,\n      'lng': 22.287377460952904},\n     'time': {'arrival': '2023-06-05T00:01:00Z',\n      'departure': '2023-06-05T16:38:10Z'},\n     'distance': 0,\n     'load': [0],\n     'activities': [{'jobId': 'departure',\n       'type': 'departure',\n       'location': None,\n       'time': None,\n       'jobTag': None}]},\n    {'location': {'lat': 62.84209272301874, 'lng': 22.959454027683385},\n     'time': {'arrival': '2023-06-05T18:41:58Z',\n      'departure': '2023-06-05T18:56:58Z'},\n     'distance': 116134,\n     'load': [1],\n     'activities': [{'jobId': 'Container631',\n       'type': 'pickup',\n       'location': None,\n       'time': None,\n       'jobTag': '26'}]},\n    {'location': {'lat': 62.84224290128861, 'lng': 22.959368215109457},\n     'time': {'arrival': '2023-06-05T18:56:58Z',\n      'departure': '2023-06-05T19:11:58Z'},\n     'distance': 116135,\n     'load': [2],\n     'activities': [{'jobId': 'Container642',\n       'type': 'pickup',\n       'location': None,\n       'time': None,\n       'jobTag': '34'}]},\n    {'location': {'lat': 62.84221025359203, 'lng': 22.95911077738756},\n     'time': {'arrival': '2023-06-05T19:12:00Z',\n      'departure': '2023-06-05T19:27:00Z'},\n     'distance': 116148,\n     'load': [3],\n     'activities': [{'jobId': 'Container655',\n       'type': 'pickup',\n       'location': None,\n       'time': None,\n       'jobTag': '32'}]},\n    {'location': {'lat': 61.98052567646762, 'lng': 22.287377460952904},\n     'time': {'arrival': '2023-06-05T21:31:55Z',\n      'departure': '2023-06-05T21:31:55Z'},\n     'distance': 233400,\n     'load': [0],\n     'activities': [{'jobId': 'arrival',\n       'type': 'arrival',\n       'location': None,\n       'time': None,\n       'jobTag': None}]}],\n   'statistic': {'cost': 496.175005875,\n    'distance': 233400,\n    'duration': 17625,\n    'times': {'driving': 14925,\n     'serving': 2700,\n     'waiting': 0,\n     'commuting': 0,\n     'parking': 0}}}]}"
     },
     "execution_count": 8,
     "metadata": {},
     "output_type": "execute_result"
    }
   ],
   "source": [
    "import json\n",
    "\n",
    "with open('./with_routing_matrix.json', 'r') as file:\n",
    "    statistics = json.load(file)\n",
    "statistics"
   ],
   "metadata": {
    "collapsed": false,
    "ExecuteTime": {
     "end_time": "2024-04-02T15:00:57.638104Z",
     "start_time": "2024-04-02T15:00:57.618660Z"
    }
   },
   "id": "5260a1e3579e357e",
   "execution_count": 8
  },
  {
   "cell_type": "code",
   "outputs": [],
   "source": [
    "solution = prgs.Solution(**statistics)"
   ],
   "metadata": {
    "collapsed": false,
    "ExecuteTime": {
     "end_time": "2024-04-02T15:00:57.644060Z",
     "start_time": "2024-04-02T15:00:57.639814Z"
    }
   },
   "id": "93842a9d5c72623c",
   "execution_count": 9
  },
  {
   "cell_type": "code",
   "outputs": [
    {
     "data": {
      "text/plain": "{28: datetime.datetime(2023, 6, 5, 22, 10, 2, tzinfo=TzInfo(UTC)),\n 27: datetime.datetime(2023, 6, 5, 22, 10, 2, tzinfo=TzInfo(UTC)),\n 33: datetime.datetime(2023, 6, 5, 22, 10, 2, tzinfo=TzInfo(UTC)),\n 23: datetime.datetime(2023, 6, 5, 17, 21, 4, tzinfo=TzInfo(UTC)),\n 25: datetime.datetime(2023, 6, 5, 17, 21, 4, tzinfo=TzInfo(UTC)),\n 30: datetime.datetime(2023, 6, 5, 17, 21, 4, tzinfo=TzInfo(UTC)),\n 16: datetime.datetime(2023, 6, 5, 12, 11, 12, tzinfo=TzInfo(UTC)),\n 20: datetime.datetime(2023, 6, 5, 12, 11, 12, tzinfo=TzInfo(UTC)),\n 21: datetime.datetime(2023, 6, 5, 12, 11, 12, tzinfo=TzInfo(UTC)),\n 19: datetime.datetime(2023, 6, 5, 17, 36, 16, tzinfo=TzInfo(UTC)),\n 29: datetime.datetime(2023, 6, 5, 17, 36, 16, tzinfo=TzInfo(UTC)),\n 24: datetime.datetime(2023, 6, 5, 15, 35, 38, tzinfo=TzInfo(UTC)),\n 22: datetime.datetime(2023, 6, 5, 15, 35, 38, tzinfo=TzInfo(UTC)),\n 18: datetime.datetime(2023, 6, 5, 15, 35, 38, tzinfo=TzInfo(UTC)),\n 26: datetime.datetime(2023, 6, 5, 21, 31, 55, tzinfo=TzInfo(UTC)),\n 34: datetime.datetime(2023, 6, 5, 21, 31, 55, tzinfo=TzInfo(UTC)),\n 32: datetime.datetime(2023, 6, 5, 21, 31, 55, tzinfo=TzInfo(UTC))}"
     },
     "execution_count": 12,
     "metadata": {},
     "output_type": "execute_result"
    }
   ],
   "source": [
    "def add_arrival(arrival_time):\n",
    "    def _job(job):\n",
    "        if arrival_time:\n",
    "            job[\"arrival\"] = arrival_time\n",
    "        return job\n",
    "    return _job\n",
    "\n",
    "cp_job = {}\n",
    "for tour in solution.tours:\n",
    "    tour_jobs = {}\n",
    "    for stop in tour.stops:\n",
    "        arrival_time = None\n",
    "        for act in stop.activities:\n",
    "            if act.type == 'departure':\n",
    "                continue\n",
    "            if act.type == 'arrival':\n",
    "                arrival_time = stop.time.arrival\n",
    "                continue\n",
    "            if act.jobTag:\n",
    "                tour_jobs[int(act.jobTag)] = None\n",
    "    \n",
    "    if arrival_time:\n",
    "        for key in tour_jobs.keys():\n",
    "            cp_job[key] = arrival_time\n",
    "cp_job"
   ],
   "metadata": {
    "collapsed": false,
    "ExecuteTime": {
     "end_time": "2024-04-02T15:10:07.994431Z",
     "start_time": "2024-04-02T15:10:07.984721Z"
    }
   },
   "id": "e47bf035fa1d644a",
   "execution_count": 12
  },
  {
   "cell_type": "code",
   "outputs": [
    {
     "data": {
      "text/plain": "17"
     },
     "execution_count": 11,
     "metadata": {},
     "output_type": "execute_result"
    }
   ],
   "source": [
    "len(cp_job)"
   ],
   "metadata": {
    "collapsed": false,
    "ExecuteTime": {
     "end_time": "2024-04-02T15:06:20.759499Z",
     "start_time": "2024-04-02T15:06:20.754709Z"
    }
   },
   "id": "f9306c678fa4708a",
   "execution_count": 11
  },
  {
   "cell_type": "code",
   "outputs": [
    {
     "data": {
      "text/plain": "datetime.datetime(2023, 6, 5, 21, 31, 55, tzinfo=TzInfo(UTC))"
     },
     "execution_count": 13,
     "metadata": {},
     "output_type": "execute_result"
    }
   ],
   "source": [
    "arrival_time"
   ],
   "metadata": {
    "collapsed": false,
    "ExecuteTime": {
     "end_time": "2024-04-02T15:30:59.587760Z",
     "start_time": "2024-04-02T15:30:59.582716Z"
    }
   },
   "id": "ab05dd43024f8bb4",
   "execution_count": 13
  },
  {
   "cell_type": "code",
   "outputs": [],
   "source": [],
   "metadata": {
    "collapsed": false
   },
   "id": "b8ae47b953d15253"
  }
 ],
 "metadata": {
  "kernelspec": {
   "display_name": "Python 3",
   "language": "python",
   "name": "python3"
  },
  "language_info": {
   "codemirror_mode": {
    "name": "ipython",
    "version": 2
   },
   "file_extension": ".py",
   "mimetype": "text/x-python",
   "name": "python",
   "nbconvert_exporter": "python",
   "pygments_lexer": "ipython2",
   "version": "2.7.6"
  }
 },
 "nbformat": 4,
 "nbformat_minor": 5
}
